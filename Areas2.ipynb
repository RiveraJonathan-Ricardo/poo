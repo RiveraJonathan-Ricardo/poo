{
  "nbformat": 4,
  "nbformat_minor": 0,
  "metadata": {
    "colab": {
      "provenance": [],
      "authorship_tag": "ABX9TyPpml/6t6v9fEvXK6I45NJ6",
      "include_colab_link": true
    },
    "kernelspec": {
      "name": "python3",
      "display_name": "Python 3"
    },
    "language_info": {
      "name": "python"
    }
  },
  "cells": [
    {
      "cell_type": "markdown",
      "metadata": {
        "id": "view-in-github",
        "colab_type": "text"
      },
      "source": [
        "<a href=\"https://colab.research.google.com/github/RiveraJonathan-Ricardo/poo/blob/main/Areas2.ipynb\" target=\"_parent\"><img src=\"https://colab.research.google.com/assets/colab-badge.svg\" alt=\"Open In Colab\"/></a>"
      ]
    },
    {
      "cell_type": "markdown",
      "source": [
        "Creado por: Jonathan Ricardo Rivera Trejo 13/02/2025\n",
        "\n",
        "Area de figuras por parametros"
      ],
      "metadata": {
        "id": "Id7hJW_LXCsZ"
      }
    },
    {
      "cell_type": "code",
      "execution_count": 1,
      "metadata": {
        "colab": {
          "base_uri": "https://localhost:8080/"
        },
        "id": "1-jB32sJW8g1",
        "outputId": "51c9bce1-88b8-4bd2-f26a-a36cbed9a0d3"
      },
      "outputs": [
        {
          "output_type": "stream",
          "name": "stdout",
          "text": [
            "Dame la primera medida: 5\n",
            "Dame la segunda medida: 6\n",
            "El área del Triángulo es: 15.0\n",
            "Dame el valor del radio: 6\n",
            "El área del Círculo es: 113.04\n"
          ]
        }
      ],
      "source": [
        "class Areas:\n",
        "    def __init__(self, a, b, pi=3.14):\n",
        "        self.a = a\n",
        "        self.b = b\n",
        "        self.pi = pi\n",
        "\n",
        "    def Circulo(self):\n",
        "        self.result1 = (self.a * self.a) * self.pi\n",
        "        return self.result1\n",
        "\n",
        "    def Triangulo(self):\n",
        "        self.result2 = (self.a * self.b) / 2\n",
        "        return self.result2\n",
        "\n",
        "v1 = int(input(\"Dame la primera medida: \"))\n",
        "v2 = int(input(\"Dame la segunda medida: \"))\n",
        "obj = Areas(v1, v2)\n",
        "result2 = obj.Triangulo()\n",
        "print(\"El área del Triángulo es:\", result2)\n",
        "\n",
        "v1 = int(input(\"Dame el valor del radio: \"))\n",
        "obj = Areas(v1, v1)\n",
        "result1 = obj.Circulo()\n",
        "print(\"El área del Círculo es:\", result1)\n"
      ]
    }
  ]
}