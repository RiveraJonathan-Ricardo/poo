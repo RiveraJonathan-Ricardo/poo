{
  "nbformat": 4,
  "nbformat_minor": 0,
  "metadata": {
    "colab": {
      "provenance": [],
      "authorship_tag": "ABX9TyOzfwLyYy2USGoLsLcq2V+e",
      "include_colab_link": true
    },
    "kernelspec": {
      "name": "python3",
      "display_name": "Python 3"
    },
    "language_info": {
      "name": "python"
    }
  },
  "cells": [
    {
      "cell_type": "markdown",
      "metadata": {
        "id": "view-in-github",
        "colab_type": "text"
      },
      "source": [
        "<a href=\"https://colab.research.google.com/github/RiveraJonathan-Ricardo/poo/blob/main/Tareas_de_Investigaci%C3%B3n.ipynb\" target=\"_parent\"><img src=\"https://colab.research.google.com/assets/colab-badge.svg\" alt=\"Open In Colab\"/></a>"
      ]
    },
    {
      "cell_type": "markdown",
      "source": [
        "Tarea Num.1\n",
        "\n",
        "**¿Qué es la tecnologia disruptiva?**\n",
        "\n",
        "Es aquella que revoluciona industrias y mercados existentes al introducir nuevos productos, servicios o modelos de negocio.Estas inovaciones suelen ser tan radicales que desplazan a las tecnologías y empresas establecidas.\n",
        "\n",
        "**¿Qué son las megatendencias?**\n",
        "\n",
        "Son grandes movimientos o patrones que emergen en la sociedad y que tienen un impacto significativo a largo plazoen diversos ambitos como la economia, la tecnología, la cultura y la politica. Son fuerzas poderosas que moldean nuestro mundo y que estan presentes en todas las areas de nuestra vida.\n",
        "\n",
        "**Inteligencia artificial**\n",
        "\n",
        "La IA es la simulación de procesos de inteligencia humana por parte de maquinas, especialmente sistemas informaticos.Estos sistemas estan diseñados para realizar tareas que normalmente requieren inteligencia humana, como el aprendizaje, el razonamiento, la resolución de problemas y la comprensión del lenguaje natural.\n",
        "\n",
        "**Tipos de IA**\n",
        "\n",
        "*IA estrecha o debil*\n",
        "\n",
        "Diseñada para tareas especificas, como el reconocimiento de voz en asistentes virtuales.\n",
        "\n",
        "*IA General*\n",
        "\n",
        "UNa IA hipotética con la capacidad de comprender, aprender y aplicar el conocimiento en cualquier tarea intelectual que un humano puede realizar.\n",
        "\n",
        "\n",
        "Tarea 2\n",
        "\n",
        "**Clase:**\n",
        "\n",
        "Es un elemento de la programación orientada a objetos que actuan como una plantilla y va a definir las caracteristicas y comportamientos de una entidad.\n",
        "LA clase va a ser como un molde a partir del cual vamos a  poder definir entidades.\n",
        "\n",
        "**Objeto:**\n",
        "\n",
        "Es el resultado de la instanciación de una clase. Es una entidad dentro de un lenguaje de programación que contiene al mismo tiempo el estado y un comportamiento.\n",
        "\n",
        "**Evento:**\n",
        "\n",
        "Es una acción que es reconocida por un objeto y que normalmente es provocada por el usuario al interactuar con la interfaz del programa.\n",
        "\n",
        "\n",
        "**Propiedad:**\n",
        "\n",
        "Son una caracteristica de ciertos lenguajes de programación orientada a objetos que permiten definir métodos getter y setter de forma más concisa y legible.\n",
        "\n",
        "**Modelo orientado a objetos:**\n",
        "\n",
        "Se basa en encapsular código y datos en una única unidad, llamada objeto.\n",
        "El interfaz entre un objeto y el resto del sistema se define mediante un conjunto de mensajes."
      ],
      "metadata": {
        "id": "L5m-DO61gWAw"
      }
    }
  ]
}