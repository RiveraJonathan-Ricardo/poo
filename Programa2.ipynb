{
  "nbformat": 4,
  "nbformat_minor": 0,
  "metadata": {
    "colab": {
      "provenance": [],
      "authorship_tag": "ABX9TyMJwKfEy8jJ+p4QtlICr87B",
      "include_colab_link": true
    },
    "kernelspec": {
      "name": "python3",
      "display_name": "Python 3"
    },
    "language_info": {
      "name": "python"
    }
  },
  "cells": [
    {
      "cell_type": "markdown",
      "metadata": {
        "id": "view-in-github",
        "colab_type": "text"
      },
      "source": [
        "<a href=\"https://colab.research.google.com/github/RiveraJonathan-Ricardo/poo/blob/main/Programa2.ipynb\" target=\"_parent\"><img src=\"https://colab.research.google.com/assets/colab-badge.svg\" alt=\"Open In Colab\"/></a>"
      ]
    },
    {
      "cell_type": "markdown",
      "source": [
        "Programa Hecho por:Jonathan Ricardo Rivera Trejo  06/02/2025"
      ],
      "metadata": {
        "id": "-hY7WgUQ2dRI"
      }
    },
    {
      "cell_type": "code",
      "execution_count": 12,
      "metadata": {
        "id": "-GeXH-yFyCyu"
      },
      "outputs": [],
      "source": [
        "class Saludo:\n",
        "  def __init__(self):\n",
        "    self.nombre=\"Jonathan Ricrado\"\n",
        "\n",
        "  def sal(self):\n",
        "    print(\"Hola\",self.nombre)"
      ]
    },
    {
      "cell_type": "code",
      "source": [
        "x=Saludo()\n",
        "x.sal()"
      ],
      "metadata": {
        "colab": {
          "base_uri": "https://localhost:8080/"
        },
        "id": "xQCoKksb2zjS",
        "outputId": "30447acb-c9aa-4e41-d4e6-103da9468f83"
      },
      "execution_count": 13,
      "outputs": [
        {
          "output_type": "stream",
          "name": "stdout",
          "text": [
            "Hola Jonathan Ricrado\n"
          ]
        }
      ]
    }
  ]
}