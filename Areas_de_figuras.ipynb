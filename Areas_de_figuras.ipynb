{
  "nbformat": 4,
  "nbformat_minor": 0,
  "metadata": {
    "colab": {
      "provenance": [],
      "authorship_tag": "ABX9TyNbAtBpAstvwsmjcSDx8Im7",
      "include_colab_link": true
    },
    "kernelspec": {
      "name": "python3",
      "display_name": "Python 3"
    },
    "language_info": {
      "name": "python"
    }
  },
  "cells": [
    {
      "cell_type": "markdown",
      "metadata": {
        "id": "view-in-github",
        "colab_type": "text"
      },
      "source": [
        "<a href=\"https://colab.research.google.com/github/RiveraJonathan-Ricardo/poo/blob/main/Areas_de_figuras.ipynb\" target=\"_parent\"><img src=\"https://colab.research.google.com/assets/colab-badge.svg\" alt=\"Open In Colab\"/></a>"
      ]
    },
    {
      "cell_type": "markdown",
      "source": [
        "Areas de Figuras. Hecho por: Jonathan Ricardo Rivera Trejo 07/02/2025"
      ],
      "metadata": {
        "id": "kzupY2NmjYIA"
      }
    },
    {
      "cell_type": "code",
      "execution_count": null,
      "metadata": {
        "id": "VscbT8kojRL_"
      },
      "outputs": [],
      "source": [
        "class Areas:\n",
        "  def __init__(self):\n",
        "    self.valor1=0\n",
        "    self.valor2=0\n",
        "    self.pi=3.141592653589793238462643383279\n",
        "    self.area=0\n",
        "    self.msj=\"\"\n",
        "\n",
        "  def Cuadrado(self):\n",
        "    self.msj=\"El area del cuadrado es\" , self.valor1, \"*\" ,self.valor1, \"=\"\n",
        "    self.area=self.valor1*self.valor1\n",
        "  def Rectangulo(self):\n",
        "    self.msj=\"El area del rectangulo es\" , self.valor1, \"*\" ,self.valor2, \"=\"\n",
        "    self.area=self.valor1*self.valor2\n",
        "  def Circulo(self):\n",
        "    self.msj=\"El area del circulo es\" , self.pi, \"*\" ,self.valor1, \"*\" ,self.valor1, \"=\"\n",
        "    self.area=self.pi*self.valor1*self.valor1\n",
        "  def Triangulo(self):\n",
        "    self.msj=\"El area del triangulo es\" , self.valor1, \"*\" ,self.valor2, \"*\" ,self.valor1, \"/\" ,2, \"=\"\n",
        "    self.area=(self.valor1*self.valor2*self.valor1)/2"
      ]
    },
    {
      "cell_type": "code",
      "source": [
        "obj=Areas()\n",
        "obj.valor1=int(input(\"Ingresa la medida\"))\n",
        "obj.valor2=int(input(\"Ingresa la medida\"))\n",
        "obj.Cuadrado()\n",
        "print(obj.msj, obj.area)\n",
        "obj.Rectangulo()\n",
        "print(obj.msj, obj.area)\n",
        "obj.Circulo()\n",
        "print(obj.msj, obj.area)\n",
        "obj.Triangulo()\n",
        "print(obj.msj, obj.area)"
      ],
      "metadata": {
        "colab": {
          "base_uri": "https://localhost:8080/"
        },
        "id": "wInN1BKruc4p",
        "outputId": "055158c5-23a7-4d86-befe-2a7dca929ecf"
      },
      "execution_count": null,
      "outputs": [
        {
          "output_type": "stream",
          "name": "stdout",
          "text": [
            "Ingresa la medida2\n",
            "Ingresa la medida4\n",
            "('El area del cuadrado es', 2, '*', 2, '=') 4\n",
            "('El area del rectangulo es', 2, '*', 4, '=') 8\n",
            "('El area del circulo es', 3.141592653589793, '*', 2, '*', 2, '=') 12.566370614359172\n",
            "('El area del triangulo es', 2, '*', 4, '*', 2, '/', 2, '=') 8.0\n"
          ]
        }
      ]
    }
  ]
}