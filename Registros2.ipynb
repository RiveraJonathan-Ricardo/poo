{
  "nbformat": 4,
  "nbformat_minor": 0,
  "metadata": {
    "colab": {
      "provenance": [],
      "authorship_tag": "ABX9TyMwa7nbSL+AzXUfbrkfvWEo",
      "include_colab_link": true
    },
    "kernelspec": {
      "name": "python3",
      "display_name": "Python 3"
    },
    "language_info": {
      "name": "python"
    }
  },
  "cells": [
    {
      "cell_type": "markdown",
      "metadata": {
        "id": "view-in-github",
        "colab_type": "text"
      },
      "source": [
        "<a href=\"https://colab.research.google.com/github/RiveraJonathan-Ricardo/poo/blob/main/Registros2.ipynb\" target=\"_parent\"><img src=\"https://colab.research.google.com/assets/colab-badge.svg\" alt=\"Open In Colab\"/></a>"
      ]
    },
    {
      "cell_type": "markdown",
      "source": [
        "Creado por: Rivera Trejo Jonathan Ricardo      28/02/25\n",
        "\n",
        "Registros-Orinetado a Objetos"
      ],
      "metadata": {
        "id": "4vKKJd0ww-NZ"
      }
    },
    {
      "cell_type": "code",
      "execution_count": 1,
      "metadata": {
        "colab": {
          "base_uri": "https://localhost:8080/"
        },
        "id": "iEoltbIFw8vT",
        "outputId": "0b19109d-5126-4a11-c863-00bc61cdf25b"
      },
      "outputs": [
        {
          "output_type": "stream",
          "name": "stdout",
          "text": [
            "Ingrese los datos de la persona 1\n",
            "Nombre: Jonathan\n",
            "Identificación: 2459\n",
            "Desea ingresar otro dato s/ns\n",
            "Ingrese los datos de la persona 2\n",
            "Nombre: Ricardo\n",
            "Identificación: 0417\n",
            "Desea ingresar otro dato s/nn\n",
            "Mostrando los datos de la persona 1\n",
            "Nombre: Jonathan\n",
            "Identificación: 2459\n",
            "Mostrando los datos de la persona 2\n",
            "Nombre: Ricardo\n",
            "Identificación: 0417\n"
          ]
        }
      ],
      "source": [
        "class Registros:\n",
        "    def __init__(self):\n",
        "        self.nombres = []\n",
        "        self.identificaciones = []\n",
        "\n",
        "    def Datos(self):\n",
        "        nombre = input(\"Nombre: \")\n",
        "        identificación = input(\"Identificación: \")\n",
        "        self.nombres.append(nombre)\n",
        "        self.identificaciones.append(identificación)\n",
        "\n",
        "\n",
        "registro = Registros()\n",
        "respuesta = \"s\"\n",
        "tam = 0\n",
        "\n",
        "while respuesta == \"s\":\n",
        "    print(\"Ingrese los datos de la persona\", tam + 1)\n",
        "    registro.Datos()\n",
        "    respuesta = input(\"Desea ingresar otro dato s/n: \")\n",
        "    tam += 1\n",
        "\n",
        "for s in range(tam):\n",
        "    print(\"Mostrando los datos de la persona\", s + 1)\n",
        "    print(\"Nombre:\", registro.nombres[s])\n",
        "    print(\"Identificación:\", registro.identificaciones[s])"
      ]
    }
  ]
}