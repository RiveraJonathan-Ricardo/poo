{
  "nbformat": 4,
  "nbformat_minor": 0,
  "metadata": {
    "colab": {
      "provenance": [],
      "authorship_tag": "ABX9TyNmnYafcrCjH17foXaZz7i5",
      "include_colab_link": true
    },
    "kernelspec": {
      "name": "python3",
      "display_name": "Python 3"
    },
    "language_info": {
      "name": "python"
    }
  },
  "cells": [
    {
      "cell_type": "markdown",
      "metadata": {
        "id": "view-in-github",
        "colab_type": "text"
      },
      "source": [
        "<a href=\"https://colab.research.google.com/github/RiveraJonathan-Ricardo/poo/blob/main/Suma.ipynb\" target=\"_parent\"><img src=\"https://colab.research.google.com/assets/colab-badge.svg\" alt=\"Open In Colab\"/></a>"
      ]
    },
    {
      "cell_type": "markdown",
      "source": [
        "Creado por: Jonathan Ricardo Rivera 13/02/2025\n",
        "\n",
        "Suma de dos numeros por parametros"
      ],
      "metadata": {
        "id": "hEsCysUsV7LF"
      }
    },
    {
      "cell_type": "code",
      "execution_count": 2,
      "metadata": {
        "colab": {
          "base_uri": "https://localhost:8080/"
        },
        "id": "ab9H1ReBV5Ar",
        "outputId": "38619635-eba3-41f1-b040-d0210202f236"
      },
      "outputs": [
        {
          "output_type": "stream",
          "name": "stdout",
          "text": [
            "Dame el primer valor: 5\n",
            "Dame el segundo valor: 4\n",
            "La suma de los valores es:  9\n"
          ]
        }
      ],
      "source": [
        "class Operaciones:\n",
        "\n",
        "    def __init__(self,v1,v2):\n",
        "        self.a= v1\n",
        "        self.b= v2\n",
        "\n",
        "    def Suma(self,v1,v2):\n",
        "        self.result= self.a + self.b\n",
        "        return(self.result)\n",
        "\n",
        "v1 = int(input(\"Dame el primer valor: \"))\n",
        "v2 = int(input(\"Dame el segundo valor: \"))\n",
        "obj = Operaciones(v1,v2)\n",
        "result = obj.Suma(v1,v2)\n",
        "print(\"La suma de los valores es: \",result)"
      ]
    }
  ]
}