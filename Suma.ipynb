{
  "nbformat": 4,
  "nbformat_minor": 0,
  "metadata": {
    "colab": {
      "provenance": [],
      "authorship_tag": "ABX9TyOC41YEXuNgqAh7+ftJjcYs",
      "include_colab_link": true
    },
    "kernelspec": {
      "name": "python3",
      "display_name": "Python 3"
    },
    "language_info": {
      "name": "python"
    }
  },
  "cells": [
    {
      "cell_type": "markdown",
      "metadata": {
        "id": "view-in-github",
        "colab_type": "text"
      },
      "source": [
        "<a href=\"https://colab.research.google.com/github/RiveraJonathan-Ricardo/poo/blob/main/Suma.ipynb\" target=\"_parent\"><img src=\"https://colab.research.google.com/assets/colab-badge.svg\" alt=\"Open In Colab\"/></a>"
      ]
    },
    {
      "cell_type": "markdown",
      "source": [
        "Suma de dos numeros. Hecho por: Jonathan Ricardo Rivera Trejo 06/02/2025"
      ],
      "metadata": {
        "id": "a6XI6fBt6Dv-"
      }
    },
    {
      "cell_type": "code",
      "execution_count": null,
      "metadata": {
        "id": "3xcbKpJM59yg",
        "colab": {
          "base_uri": "https://localhost:8080/"
        },
        "outputId": "b7640abf-c393-407e-c2d8-713f512ae5bf",
        "collapsed": true
      },
      "outputs": [
        {
          "output_type": "stream",
          "name": "stdout",
          "text": [
            "Respuesta 3\n"
          ]
        }
      ],
      "source": [
        "class Suma:\n",
        "  def __init__(valor1, valor2):\n",
        "    self.valor1=valor1\n",
        "    self.valor2=valor2\n",
        "\n",
        "  def operacion(self):\n",
        "    resultado=self.valor1+self.valor2\n",
        "    print(\"Respuesta\", resultado)\n",
        "\n",
        "obj=Suma()\n",
        "obj.operacion()"
      ]
    },
    {
      "cell_type": "markdown",
      "source": [],
      "metadata": {
        "id": "Ghee-wl5CWOG"
      }
    },
    {
      "cell_type": "markdown",
      "source": [
        "Variante dos pidiendo valores"
      ],
      "metadata": {
        "id": "WMRO6191-Ivd"
      }
    },
    {
      "cell_type": "code",
      "source": [
        "class Operaciones:\n",
        "    def __init__(self):\n",
        "      self.valor1=0\n",
        "      self.valor2=0\n",
        "      self.resultado=0\n",
        "\n",
        "    def Suma(self):\n",
        "      self.resultado=self.valor1 + self.valor2\n",
        "    def imprimir(self):\n",
        "      print(\"Respuesta\",self.resultado)"
      ],
      "metadata": {
        "id": "EbMZt6LJ-F5-"
      },
      "execution_count": null,
      "outputs": []
    },
    {
      "cell_type": "code",
      "source": [
        "obj= Operaciones()\n",
        "obj.valor1=int(input(\"Ingrese el primer valor: \"))\n",
        "obj.valor2=int(input(\"Ingrese el segundo valor: \"))\n",
        "obj.Suma()\n",
        "obj.imprimir()"
      ],
      "metadata": {
        "colab": {
          "base_uri": "https://localhost:8080/"
        },
        "id": "xLPwI4Ja_SQf",
        "outputId": "dee71314-00c3-4f1d-b89d-b36718802425",
        "collapsed": true
      },
      "execution_count": null,
      "outputs": [
        {
          "output_type": "stream",
          "name": "stdout",
          "text": [
            "Ingrese el primer valor: 10\n",
            "Ingrese el segundo valor: 3\n",
            "Respuesta 7\n"
          ]
        }
      ]
    },
    {
      "cell_type": "markdown",
      "source": [
        "Tres operaciones más"
      ],
      "metadata": {
        "id": "DlirtsH6CXuk"
      }
    },
    {
      "cell_type": "code",
      "source": [
        "class Operaciones:\n",
        "    def __init__(self):\n",
        "      self.valor1=0\n",
        "      self.valor2=0\n",
        "      self.resultado=0\n",
        "      self.msj=\"\"\n",
        "\n",
        "    def Suma(self):\n",
        "      self.msj=\"La suma de\" ,self.valor1, \" + \" ,self.valor2, \" = \"\n",
        "      self.resultado=self.valor1+self.valor2\n",
        "    def Resta(self):\n",
        "      self.msj=\"La resta de\" ,self.valor1, \" - \" ,self.valor2, \" = \"\n",
        "      self.resultado=self.valor1-self.valor2\n",
        "    def Multiplicacion(self):\n",
        "      self.msj=\"La multiplicacion de\" ,self.valor1, \" * \" ,self.valor2, \" = \"\n",
        "      self.resultado=self.valor1*self.valor2\n",
        "    def Division(self):\n",
        "      self.msj=\"La divicion de\" ,self.valor1, \" / \" ,self.valor2, \" = \"\n",
        "      self.resultado=self.valor1/self.valor2\n",
        "    def imprimir(self):\n",
        "      print(self.msj,self.resultado)"
      ],
      "metadata": {
        "id": "m0QIJcSOCR0X"
      },
      "execution_count": 3,
      "outputs": []
    },
    {
      "cell_type": "code",
      "source": [
        "obj= Operaciones()\n",
        "obj.valor1=int(input(\"Ingrese el primer valor: \"))\n",
        "obj.valor2=int(input(\"Ingrese el segundo valor: \"))\n",
        "obj.Suma()\n",
        "obj.imprimir()\n",
        "obj.Resta()\n",
        "obj.imprimir()\n",
        "obj.Multiplicacion()\n",
        "obj.imprimir()\n",
        "obj.Division()\n",
        "obj.imprimir()\n"
      ],
      "metadata": {
        "colab": {
          "base_uri": "https://localhost:8080/"
        },
        "id": "CpQTvy5UDPSy",
        "outputId": "12a28e7b-020c-4076-90c0-f0265a6c45af"
      },
      "execution_count": 4,
      "outputs": [
        {
          "output_type": "stream",
          "name": "stdout",
          "text": [
            "Ingrese el primer valor: 10\n",
            "Ingrese el segundo valor: 5\n",
            "('La suma de', 10, ' + ', 5, ' = ') 15\n",
            "('La resta de', 10, ' - ', 5, ' = ') 5\n",
            "('La multiplicacion de', 10, ' * ', 5, ' = ') 50\n",
            "('La divicion de', 10, ' / ', 5, ' = ') 2.0\n"
          ]
        }
      ]
    }
  ]
}