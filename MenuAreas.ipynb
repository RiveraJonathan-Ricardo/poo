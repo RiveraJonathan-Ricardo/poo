{
  "nbformat": 4,
  "nbformat_minor": 0,
  "metadata": {
    "colab": {
      "provenance": [],
      "authorship_tag": "ABX9TyPBjgktbICVCX81FQ8AS0qR",
      "include_colab_link": true
    },
    "kernelspec": {
      "name": "python3",
      "display_name": "Python 3"
    },
    "language_info": {
      "name": "python"
    }
  },
  "cells": [
    {
      "cell_type": "markdown",
      "metadata": {
        "id": "view-in-github",
        "colab_type": "text"
      },
      "source": [
        "<a href=\"https://colab.research.google.com/github/RiveraJonathan-Ricardo/poo/blob/main/MenuAreas.ipynb\" target=\"_parent\"><img src=\"https://colab.research.google.com/assets/colab-badge.svg\" alt=\"Open In Colab\"/></a>"
      ]
    },
    {
      "cell_type": "markdown",
      "source": [
        "Creado por: Jonathan Ricardo Rivera Trejo  13/02/2025\n",
        "\n",
        "Menu de Areas"
      ],
      "metadata": {
        "id": "dkRbWttHXfCs"
      }
    },
    {
      "cell_type": "code",
      "execution_count": 3,
      "metadata": {
        "colab": {
          "base_uri": "https://localhost:8080/"
        },
        "id": "FX2EhCv9XekH",
        "outputId": "c851d710-3404-4730-fe47-2d90bc0b4f40"
      },
      "outputs": [
        {
          "output_type": "stream",
          "name": "stdout",
          "text": [
            "Elije una opccion de nuestro menu: \n",
            "1.- Circulo\n",
            "2.- Trapecio\n",
            "3.- Rectangulo\n",
            "Ingresa la opccion: 3\n",
            "Escribe la base: 12\n",
            "Escribe la altura: 5\n",
            "El area es de:  60.0\n"
          ]
        }
      ],
      "source": [
        "class Figuras:\n",
        "    def __init__(self):\n",
        "        self.a = 0\n",
        "        self.b = 0\n",
        "        self.c = 0\n",
        "    def Op(self):\n",
        "        print(\"Elije una opccion de nuestro menu: \")\n",
        "        print(\"1.- Circulo\")\n",
        "        print(\"2.- Trapecio\")\n",
        "        print(\"3.- Rectangulo\")\n",
        "        r = int(input(\"Ingresa la opccion: \"))\n",
        "        return (r)\n",
        "    def Circulo(self,rad):\n",
        "        area = 3.14 * rad**2\n",
        "        return (area)\n",
        "\n",
        "    def Trapecio(self,b1,b2,h):\n",
        "        area = ((b1 + b2)*h)/2\n",
        "        return (area)\n",
        "\n",
        "    def Rectangulo(self,b,h):\n",
        "        area= b * h\n",
        "        return (area)\n",
        "\n",
        "obj = Figuras()\n",
        "s = obj.Op()\n",
        "if s==1:\n",
        "    obj.a = float(input(\"Escribe el radio: \"))\n",
        "    resultado = obj.Circulo(obj.a)\n",
        "    print(\"El area es de: \", resultado)\n",
        "elif(s==2):\n",
        "    obj.a = float(input(\"Escribe la base mayor: \"))\n",
        "    obj.b = float(input(\"Escribe la base menor: \"))\n",
        "    obj.c = float(input(\"Escribe la altura: \"))\n",
        "    resultado = obj.Trapecio(obj.a, obj.b, obj.c)\n",
        "    print(\"El area es de: \", resultado)\n",
        "elif(s==3):\n",
        "    obj.a=float(input(\"Escribe la base: \"))\n",
        "    obj.b=float(input(\"Escribe la altura: \"))\n",
        "    resultado=obj.Rectangulo(obj.a, obj.b)\n",
        "    print(\"El area es de: \", resultado)\n",
        "else:\n",
        "    print(\"Opccion no valida.\")\n",
        "#Si esta en la clase el self son  variables globales\n",
        "#Si estan fuera de las clases se estancian (obj)"
      ]
    }
  ]
}